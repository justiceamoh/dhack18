{
 "cells": [
  {
   "cell_type": "markdown",
   "metadata": {
    "collapsed": true
   },
   "source": [
    "### Date cyclic part\n",
    "Reference1: https://machinelearningmastery.com/basic-feature-engineering-time-series-data-python/\n",
    "\n",
    "The best default strategy is to use all the knowledge available to create many good datasets from your time series dataset and use model performance (and other project requirements) to help determine what good features and good views of your problem happen to be.\n",
    "\n",
    "There are several common time frames that trends occur over:\n",
    "\n",
    "    - absolute_time\n",
    "    - day_of_year\n",
    "    - day_of_week\n",
    "    - month_of_year\n",
    "1. convert timestamp to 'year', 'Month' and 'Day' \n",
    "    - month, day of the year matter\n",
    "2. find which day of the week the timestamp is\n",
    "3. convert timestamp to 'age' by subtracting a certain time (now)\n",
    "    - more new comments might mean the store is more popular \n"
   ]
  },
  {
   "cell_type": "code",
   "execution_count": 6,
   "metadata": {
    "collapsed": true
   },
   "outputs": [],
   "source": [
    "import pandas as pd\n",
    "example=pd.Series(['2000-10-1','2010-10-1','2011-10-1','2012-12-3'])"
   ]
  },
  {
   "cell_type": "markdown",
   "metadata": {},
   "source": [
    "#### function 1:\n",
    "#####input pandas series and return date frame with year, month and day"
   ]
  },
  {
   "cell_type": "code",
   "execution_count": 7,
   "metadata": {},
   "outputs": [
    {
     "data": {
      "text/plain": [
       "0    2000-10-1\n",
       "1    2010-10-1\n",
       "2    2011-10-1\n",
       "3    2012-12-3\n",
       "dtype: object"
      ]
     },
     "execution_count": 7,
     "metadata": {},
     "output_type": "execute_result"
    }
   ],
   "source": [
    "example\n",
    "\n",
    "# string type"
   ]
  },
  {
   "cell_type": "code",
   "execution_count": 8,
   "metadata": {},
   "outputs": [
    {
     "data": {
      "text/plain": [
       "0    10\n",
       "1    10\n",
       "2    10\n",
       "3    12\n",
       "dtype: int64"
      ]
     },
     "execution_count": 8,
     "metadata": {},
     "output_type": "execute_result"
    }
   ],
   "source": [
    "date=pd.to_datetime(example)\n",
    "date.dt.month\n",
    "#datetime type"
   ]
  },
  {
   "cell_type": "code",
   "execution_count": 9,
   "metadata": {},
   "outputs": [
    {
     "name": "stdout",
     "output_type": "stream",
     "text": [
      "   month  day  year\n",
      "0     10    1     1\n",
      "1     10    1     1\n",
      "2     10    1     1\n",
      "3     12    3     3\n"
     ]
    }
   ],
   "source": [
    "dateframe=pd.DataFrame()\n",
    "dateframe['month'] = [date[i].month for i in range(len(date))]\n",
    "dateframe['day'] = [date[i].day for i in range(len(date))]\n",
    "dateframe['year'] = [date[i].day for i in range(len(date))]\n",
    "print(dateframe.head(5))"
   ]
  },
  {
   "cell_type": "markdown",
   "metadata": {},
   "source": [
    "##### function 1 & 2 realization"
   ]
  },
  {
   "cell_type": "code",
   "execution_count": 10,
   "metadata": {
    "collapsed": true
   },
   "outputs": [],
   "source": [
    "def funcdate12(example):\n",
    "    #### function 1&2:\n",
    "    #####input pandas series and return date frame with year, month and day of week\n",
    "    date=pd.to_datetime(example)\n",
    "    dateframe=pd.DataFrame()\n",
    "    dateframe['month'] = date.dt.month\n",
    "    dateframe['day'] = date.dt.day\n",
    "    dateframe['year'] =date.dt.year\n",
    "    dateframe['dayofweek']=date.dt.dayofweek\n",
    "    return dateframe"
   ]
  },
  {
   "cell_type": "code",
   "execution_count": 12,
   "metadata": {},
   "outputs": [
    {
     "data": {
      "text/html": [
       "<div>\n",
       "<style>\n",
       "    .dataframe thead tr:only-child th {\n",
       "        text-align: right;\n",
       "    }\n",
       "\n",
       "    .dataframe thead th {\n",
       "        text-align: left;\n",
       "    }\n",
       "\n",
       "    .dataframe tbody tr th {\n",
       "        vertical-align: top;\n",
       "    }\n",
       "</style>\n",
       "<table border=\"1\" class=\"dataframe\">\n",
       "  <thead>\n",
       "    <tr style=\"text-align: right;\">\n",
       "      <th></th>\n",
       "      <th>month</th>\n",
       "      <th>day</th>\n",
       "      <th>year</th>\n",
       "      <th>dayofweek</th>\n",
       "    </tr>\n",
       "  </thead>\n",
       "  <tbody>\n",
       "    <tr>\n",
       "      <th>0</th>\n",
       "      <td>10</td>\n",
       "      <td>1</td>\n",
       "      <td>2000</td>\n",
       "      <td>6</td>\n",
       "    </tr>\n",
       "    <tr>\n",
       "      <th>1</th>\n",
       "      <td>10</td>\n",
       "      <td>1</td>\n",
       "      <td>2010</td>\n",
       "      <td>4</td>\n",
       "    </tr>\n",
       "    <tr>\n",
       "      <th>2</th>\n",
       "      <td>10</td>\n",
       "      <td>1</td>\n",
       "      <td>2011</td>\n",
       "      <td>5</td>\n",
       "    </tr>\n",
       "    <tr>\n",
       "      <th>3</th>\n",
       "      <td>12</td>\n",
       "      <td>3</td>\n",
       "      <td>2012</td>\n",
       "      <td>0</td>\n",
       "    </tr>\n",
       "  </tbody>\n",
       "</table>\n",
       "</div>"
      ],
      "text/plain": [
       "   month  day  year  dayofweek\n",
       "0     10    1  2000          6\n",
       "1     10    1  2010          4\n",
       "2     10    1  2011          5\n",
       "3     12    3  2012          0"
      ]
     },
     "execution_count": 12,
     "metadata": {},
     "output_type": "execute_result"
    }
   ],
   "source": [
    "funcdate12(example)"
   ]
  },
  {
   "cell_type": "code",
   "execution_count": 33,
   "metadata": {
    "collapsed": true
   },
   "outputs": [],
   "source": [
    "#### function 3:\n",
    "#####input pandas series and return time difference to a certain day (christmas day) as a pandas series of integers"
   ]
  },
  {
   "cell_type": "code",
   "execution_count": 34,
   "metadata": {
    "collapsed": true
   },
   "outputs": [],
   "source": [
    "def funcdate3(example):\n",
    "    date=pd.to_datetime(example)\n",
    "    ###find the christmas day of the corresponding day\n",
    "    xmastime=pd.DataFrame()\n",
    "    xmastime['year']=date.dt.year\n",
    "    xmastime['month']=12\n",
    "    xmastime['day']=25\n",
    "    ####xdate is pandas series for christmas day\n",
    "    xdate=pd.to_datetime(xmastime)\n",
    "    timediff=(xdate-date).dt.days\n",
    "    return timediff"
   ]
  },
  {
   "cell_type": "code",
   "execution_count": 19,
   "metadata": {
    "collapsed": true
   },
   "outputs": [],
   "source": [
    "xmastime=pd.DataFrame()\n",
    "xmastime['year']=date.dt.year\n",
    "xmastime['month']=12\n",
    "xmastime['day']=25"
   ]
  },
  {
   "cell_type": "code",
   "execution_count": 25,
   "metadata": {
    "collapsed": true
   },
   "outputs": [],
   "source": [
    "xdate=pd.to_datetime(xmastime)\n"
   ]
  },
  {
   "cell_type": "code",
   "execution_count": 32,
   "metadata": {},
   "outputs": [
    {
     "data": {
      "text/plain": [
       "0    85\n",
       "1    85\n",
       "2    85\n",
       "3    22\n",
       "dtype: int64"
      ]
     },
     "execution_count": 32,
     "metadata": {},
     "output_type": "execute_result"
    }
   ],
   "source": [
    "(xdate-date).dt.days\n",
    "#convert to integer"
   ]
  },
  {
   "cell_type": "code",
   "execution_count": 35,
   "metadata": {},
   "outputs": [
    {
     "data": {
      "text/plain": [
       "0    85\n",
       "1    85\n",
       "2    85\n",
       "3    22\n",
       "dtype: int64"
      ]
     },
     "execution_count": 35,
     "metadata": {},
     "output_type": "execute_result"
    }
   ],
   "source": [
    "funcdate3(example)"
   ]
  },
  {
   "cell_type": "markdown",
   "metadata": {
    "collapsed": true
   },
   "source": [
    "## Combine all three functions togather:"
   ]
  },
  {
   "cell_type": "code",
   "execution_count": 36,
   "metadata": {
    "collapsed": true
   },
   "outputs": [],
   "source": [
    "import pandas as pd\n",
    "\n",
    "def funcdate(example):\n",
    "    #### function 1&2:\n",
    "    #####input pandas series and return date frame with year, month and day of week\n",
    "    date=pd.to_datetime(example)\n",
    "    dateframe=pd.DataFrame()\n",
    "    dateframe['month'] = date.dt.month\n",
    "    dateframe['day'] = date.dt.day\n",
    "    dateframe['year'] =date.dt.year\n",
    "    dateframe['dayofweek']=date.dt.dayofweek\n",
    "    ####find a specific day (christmas) of the corresponding years and return time difference\n",
    "    xmastime=pd.DataFrame()\n",
    "    xmastime['year']=date.dt.year\n",
    "    xmastime['month']=12\n",
    "    xmastime['day']=25\n",
    "    ####xdate is pandas series for christmas day\n",
    "    xdate=pd.to_datetime(xmastime)\n",
    "    dateframe['timediff']=(xdate-date).dt.days\n",
    "    return dateframe"
   ]
  },
  {
   "cell_type": "code",
   "execution_count": 37,
   "metadata": {},
   "outputs": [
    {
     "data": {
      "text/html": [
       "<div>\n",
       "<style>\n",
       "    .dataframe thead tr:only-child th {\n",
       "        text-align: right;\n",
       "    }\n",
       "\n",
       "    .dataframe thead th {\n",
       "        text-align: left;\n",
       "    }\n",
       "\n",
       "    .dataframe tbody tr th {\n",
       "        vertical-align: top;\n",
       "    }\n",
       "</style>\n",
       "<table border=\"1\" class=\"dataframe\">\n",
       "  <thead>\n",
       "    <tr style=\"text-align: right;\">\n",
       "      <th></th>\n",
       "      <th>month</th>\n",
       "      <th>day</th>\n",
       "      <th>year</th>\n",
       "      <th>dayofweek</th>\n",
       "      <th>timediff</th>\n",
       "    </tr>\n",
       "  </thead>\n",
       "  <tbody>\n",
       "    <tr>\n",
       "      <th>0</th>\n",
       "      <td>10</td>\n",
       "      <td>1</td>\n",
       "      <td>2000</td>\n",
       "      <td>6</td>\n",
       "      <td>85</td>\n",
       "    </tr>\n",
       "    <tr>\n",
       "      <th>1</th>\n",
       "      <td>10</td>\n",
       "      <td>1</td>\n",
       "      <td>2010</td>\n",
       "      <td>4</td>\n",
       "      <td>85</td>\n",
       "    </tr>\n",
       "    <tr>\n",
       "      <th>2</th>\n",
       "      <td>10</td>\n",
       "      <td>1</td>\n",
       "      <td>2011</td>\n",
       "      <td>5</td>\n",
       "      <td>85</td>\n",
       "    </tr>\n",
       "    <tr>\n",
       "      <th>3</th>\n",
       "      <td>12</td>\n",
       "      <td>3</td>\n",
       "      <td>2012</td>\n",
       "      <td>0</td>\n",
       "      <td>22</td>\n",
       "    </tr>\n",
       "  </tbody>\n",
       "</table>\n",
       "</div>"
      ],
      "text/plain": [
       "   month  day  year  dayofweek  timediff\n",
       "0     10    1  2000          6        85\n",
       "1     10    1  2010          4        85\n",
       "2     10    1  2011          5        85\n",
       "3     12    3  2012          0        22"
      ]
     },
     "execution_count": 37,
     "metadata": {},
     "output_type": "execute_result"
    }
   ],
   "source": [
    "funcdate(example)"
   ]
  },
  {
   "cell_type": "code",
   "execution_count": null,
   "metadata": {
    "collapsed": true
   },
   "outputs": [],
   "source": []
  }
 ],
 "metadata": {
  "kernelspec": {
   "display_name": "Python 3",
   "language": "python",
   "name": "python3"
  },
  "language_info": {
   "codemirror_mode": {
    "name": "ipython",
    "version": 3
   },
   "file_extension": ".py",
   "mimetype": "text/x-python",
   "name": "python",
   "nbconvert_exporter": "python",
   "pygments_lexer": "ipython3",
   "version": "3.6.2"
  }
 },
 "nbformat": 4,
 "nbformat_minor": 2
}
