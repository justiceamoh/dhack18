{
 "cells": [
  {
   "cell_type": "markdown",
   "metadata": {},
   "source": [
    "# HackDartmouth IV - QSS Data Science Challenge\n",
    "In this notebook, we will load the training data and perform preliminary processing and analysis before we start training. \n",
    "\n",
    "From the challenge prompt, we know the following:\n",
    "- Development set: 749,575 Yelp reviews\n",
    "- Evaluation set: 250,425 Yelp reviews\n",
    "- Challenge: predict **review star ratings**\n",
    "- Avaliable features:\n",
    "    + business_id\n",
    "    + cool\n",
    "    + date\n",
    "    + funny\n",
    "    + review_id\n",
    "    + text\n",
    "    + useful\n",
    "    + user_id"
   ]
  },
  {
   "cell_type": "code",
   "execution_count": 37,
   "metadata": {},
   "outputs": [],
   "source": [
    "# Basic Imports\n",
    "%matplotlib inline\n",
    "import numpy as np\n",
    "import pandas as pd\n",
    "import matplotlib.pyplot as plt\n",
    "from gensim.models.doc2vec import Doc2Vec\n",
    "import xgboost as xgb\n",
    "from xgboost import XGBClassifier\n",
    "from sklearn.model_selection import train_test_split\n",
    "from sklearn.metrics import accuracy_score"
   ]
  },
  {
   "cell_type": "code",
   "execution_count": 3,
   "metadata": {},
   "outputs": [
    {
     "name": "stdout",
     "output_type": "stream",
     "text": [
      "Total number of entries: 749574\n"
     ]
    }
   ],
   "source": [
    "## Load Dataset\n",
    "fname = 'yelp.json'\n",
    "df    = pd.read_json('yelp.json')\n",
    "\n",
    "print 'Total number of entries: {}'.format(len(df))"
   ]
  },
  {
   "cell_type": "markdown",
   "metadata": {},
   "source": [
    "### Notes on Features\n",
    "- **review_id**: all review ids are unique, hence can remove entire column\n",
    "- **business_id**: only 123,553 unique entries\n",
    "- **user_id**: only 221,465 unique entries"
   ]
  },
  {
   "cell_type": "code",
   "execution_count": 4,
   "metadata": {},
   "outputs": [],
   "source": [
    "# Convert Select Cols to categories \n",
    "catcols = ['business_id','user_id']\n",
    "for col in catcols:\n",
    "    df[col] = df[col].astype('category')"
   ]
  },
  {
   "cell_type": "code",
   "execution_count": 5,
   "metadata": {},
   "outputs": [],
   "source": [
    "df['user_id'] = df.user_id.cat.codes\n",
    "df['business_id'] = df.business_id.cat.codes"
   ]
  },
  {
   "cell_type": "code",
   "execution_count": 6,
   "metadata": {},
   "outputs": [],
   "source": [
    "# Include Normalized Date\n",
    "# Using month, day & year\n",
    "df['month'] = df.date.dt.month\n",
    "df['day']   = df.date.dt.day\n",
    "df['year']  = df.date.dt.year\n",
    "df['dOw']   = df.date.dt.dayofweek\n",
    "df.drop(columns=['date'])\n",
    "\n",
    "cols  = ['business_id','user_id','review_id',\n",
    "         'year','month','day','dOw','cool',\n",
    "         'funny','useful','text','stars']\n",
    "df    = df[cols]"
   ]
  },
  {
   "cell_type": "code",
   "execution_count": 7,
   "metadata": {},
   "outputs": [
    {
     "data": {
      "text/html": [
       "<div>\n",
       "<style scoped>\n",
       "    .dataframe tbody tr th:only-of-type {\n",
       "        vertical-align: middle;\n",
       "    }\n",
       "\n",
       "    .dataframe tbody tr th {\n",
       "        vertical-align: top;\n",
       "    }\n",
       "\n",
       "    .dataframe thead th {\n",
       "        text-align: right;\n",
       "    }\n",
       "</style>\n",
       "<table border=\"1\" class=\"dataframe\">\n",
       "  <thead>\n",
       "    <tr style=\"text-align: right;\">\n",
       "      <th></th>\n",
       "      <th>business_id</th>\n",
       "      <th>user_id</th>\n",
       "      <th>review_id</th>\n",
       "      <th>year</th>\n",
       "      <th>month</th>\n",
       "      <th>day</th>\n",
       "      <th>dOw</th>\n",
       "      <th>cool</th>\n",
       "      <th>funny</th>\n",
       "      <th>useful</th>\n",
       "      <th>text</th>\n",
       "      <th>stars</th>\n",
       "    </tr>\n",
       "  </thead>\n",
       "  <tbody>\n",
       "    <tr>\n",
       "      <th>0</th>\n",
       "      <td>2956</td>\n",
       "      <td>138470</td>\n",
       "      <td>v0i_UHJMo_hPBq9bxWvW4w</td>\n",
       "      <td>2016</td>\n",
       "      <td>5</td>\n",
       "      <td>28</td>\n",
       "      <td>5</td>\n",
       "      <td>0</td>\n",
       "      <td>0</td>\n",
       "      <td>0</td>\n",
       "      <td>Love the staff, love the meat, love the place....</td>\n",
       "      <td>5</td>\n",
       "    </tr>\n",
       "    <tr>\n",
       "      <th>1</th>\n",
       "      <td>21735</td>\n",
       "      <td>138470</td>\n",
       "      <td>vkVSCC7xljjrAI4UGfnKEQ</td>\n",
       "      <td>2016</td>\n",
       "      <td>5</td>\n",
       "      <td>28</td>\n",
       "      <td>5</td>\n",
       "      <td>0</td>\n",
       "      <td>0</td>\n",
       "      <td>0</td>\n",
       "      <td>Super simple place but amazing nonetheless. It...</td>\n",
       "      <td>5</td>\n",
       "    </tr>\n",
       "    <tr>\n",
       "      <th>2</th>\n",
       "      <td>62880</td>\n",
       "      <td>138470</td>\n",
       "      <td>n6QzIUObkYshz4dz2QRJTw</td>\n",
       "      <td>2016</td>\n",
       "      <td>5</td>\n",
       "      <td>28</td>\n",
       "      <td>5</td>\n",
       "      <td>0</td>\n",
       "      <td>0</td>\n",
       "      <td>0</td>\n",
       "      <td>Small unassuming place that changes their menu...</td>\n",
       "      <td>5</td>\n",
       "    </tr>\n",
       "    <tr>\n",
       "      <th>3</th>\n",
       "      <td>25756</td>\n",
       "      <td>138470</td>\n",
       "      <td>MV3CcKScW05u5LVfF6ok0g</td>\n",
       "      <td>2016</td>\n",
       "      <td>5</td>\n",
       "      <td>28</td>\n",
       "      <td>5</td>\n",
       "      <td>0</td>\n",
       "      <td>0</td>\n",
       "      <td>0</td>\n",
       "      <td>Lester's is located in a beautiful neighborhoo...</td>\n",
       "      <td>5</td>\n",
       "    </tr>\n",
       "    <tr>\n",
       "      <th>4</th>\n",
       "      <td>21657</td>\n",
       "      <td>138470</td>\n",
       "      <td>IXvOzsEMYtiJI0CARmj77Q</td>\n",
       "      <td>2016</td>\n",
       "      <td>5</td>\n",
       "      <td>28</td>\n",
       "      <td>5</td>\n",
       "      <td>0</td>\n",
       "      <td>0</td>\n",
       "      <td>0</td>\n",
       "      <td>Love coming here. Yes the place always needs t...</td>\n",
       "      <td>4</td>\n",
       "    </tr>\n",
       "  </tbody>\n",
       "</table>\n",
       "</div>"
      ],
      "text/plain": [
       "   business_id  user_id               review_id  year  month  day  dOw  cool  \\\n",
       "0         2956   138470  v0i_UHJMo_hPBq9bxWvW4w  2016      5   28    5     0   \n",
       "1        21735   138470  vkVSCC7xljjrAI4UGfnKEQ  2016      5   28    5     0   \n",
       "2        62880   138470  n6QzIUObkYshz4dz2QRJTw  2016      5   28    5     0   \n",
       "3        25756   138470  MV3CcKScW05u5LVfF6ok0g  2016      5   28    5     0   \n",
       "4        21657   138470  IXvOzsEMYtiJI0CARmj77Q  2016      5   28    5     0   \n",
       "\n",
       "   funny  useful                                               text  stars  \n",
       "0      0       0  Love the staff, love the meat, love the place....      5  \n",
       "1      0       0  Super simple place but amazing nonetheless. It...      5  \n",
       "2      0       0  Small unassuming place that changes their menu...      5  \n",
       "3      0       0  Lester's is located in a beautiful neighborhoo...      5  \n",
       "4      0       0  Love coming here. Yes the place always needs t...      4  "
      ]
     },
     "execution_count": 7,
     "metadata": {},
     "output_type": "execute_result"
    }
   ],
   "source": [
    "df.head()"
   ]
  },
  {
   "cell_type": "code",
   "execution_count": 8,
   "metadata": {},
   "outputs": [
    {
     "data": {
      "text/plain": [
       "Text(0.5,1,u'Class Distribution')"
      ]
     },
     "execution_count": 8,
     "metadata": {},
     "output_type": "execute_result"
    },
    {
     "data": {
      "image/png": "[encoded data removed]",
      "text/plain": [
       "<matplotlib.figure.Figure at 0x7f18928d74d0>"
      ]
     },
     "metadata": {},
     "output_type": "display_data"
    }
   ],
   "source": [
    "# Class Distribution\n",
    "df['stars'].value_counts().plot(kind='barh')\n",
    "plt.title('Class Distribution')"
   ]
  },
  {
   "cell_type": "code",
   "execution_count": 9,
   "metadata": {},
   "outputs": [
    {
     "data": {
      "image/png": "[encoded data removed]",
      "text/plain": [
       "<matplotlib.figure.Figure at 0x7f177adf8890>"
      ]
     },
     "metadata": {},
     "output_type": "display_data"
    }
   ],
   "source": [
    "# Distribution of Other Features\n",
    "catcols = ['funny', 'cool','useful']\n",
    "\n",
    "plt.figure(figsize=(4,6))\n",
    "for i,col in enumerate(catcols):\n",
    "    plt.subplot(311+i)\n",
    "    df[col].value_counts()[:20].plot(kind='bar')\n",
    "    plt.title(col)\n",
    "plt.tight_layout()"
   ]
  },
  {
   "cell_type": "markdown",
   "metadata": {},
   "source": [
    "## Using Doc2Vec To Vectorize"
   ]
  },
  {
   "cell_type": "code",
   "execution_count": 78,
   "metadata": {},
   "outputs": [],
   "source": [
    "vmodel = Doc2Vec.load('doc2vec25.model')\n",
    "ids = df.review_id.values"
   ]
  },
  {
   "cell_type": "code",
   "execution_count": 79,
   "metadata": {},
   "outputs": [],
   "source": [
    "# Get Vectorized texts\n",
    "v_data = []\n",
    "for i in range(len(ids)):\n",
    "    v = vmodel.docvecs[i]\n",
    "    v_data.append(v)"
   ]
  },
  {
   "cell_type": "code",
   "execution_count": 80,
   "metadata": {},
   "outputs": [],
   "source": [
    "v_data = np.vstack(v_data)"
   ]
  },
  {
   "cell_type": "code",
   "execution_count": 81,
   "metadata": {},
   "outputs": [],
   "source": [
    "fcols  = ['business_id','user_id','year','month','day','dOw','cool','funny','useful']\n",
    "x_data = df[fcols].values\n",
    "x_data = np.append(x_data,v_data,axis=-1)\n",
    "y_data = df['stars'].values"
   ]
  },
  {
   "cell_type": "code",
   "execution_count": 82,
   "metadata": {},
   "outputs": [
    {
     "data": {
      "text/plain": [
       "(749574, 41)"
      ]
     },
     "execution_count": 82,
     "metadata": {},
     "output_type": "execute_result"
    }
   ],
   "source": [
    "x_data.shape"
   ]
  },
  {
   "cell_type": "code",
   "execution_count": 83,
   "metadata": {},
   "outputs": [
    {
     "data": {
      "text/plain": [
       "(749574,)"
      ]
     },
     "execution_count": 83,
     "metadata": {},
     "output_type": "execute_result"
    }
   ],
   "source": [
    "y_data.shape"
   ]
  },
  {
   "cell_type": "code",
   "execution_count": 84,
   "metadata": {},
   "outputs": [
    {
     "name": "stdout",
     "output_type": "stream",
     "text": [
      "Size of Train set: 502214\n",
      "Size of Valid set: 247360\n"
     ]
    }
   ],
   "source": [
    "# Split into Train & Validation\n",
    "xtrain,xvalid,ytrain,yvalid = train_test_split(x_data,y_data,\n",
    "                                             test_size=0.33,random_state=32)\n",
    "\n",
    "print 'Size of Train set: {}'.format(len(xtrain))\n",
    "print 'Size of Valid set: {}'.format(len(xvalid))"
   ]
  },
  {
   "cell_type": "markdown",
   "metadata": {},
   "source": [
    "## Training & Evaluation"
   ]
  },
  {
   "cell_type": "code",
   "execution_count": 92,
   "metadata": {},
   "outputs": [
    {
     "name": "stdout",
     "output_type": "stream",
     "text": [
      "\n",
      "Training & evaluating model...\n",
      "Accuracy: 62.79%\n"
     ]
    },
    {
     "name": "stderr",
     "output_type": "stream",
     "text": [
      "/home/junior/anaconda2/lib/python2.7/site-packages/sklearn/preprocessing/label.py:151: DeprecationWarning: The truth value of an empty array is ambiguous. Returning False, but in future this will result in an error. Use `array.size > 0` to check that an array is not empty.\n",
      "  if diff:\n"
     ]
    }
   ],
   "source": [
    "k = 10000\n",
    "\n",
    "# Training & Evaluation\n",
    "print '\\nTraining & evaluating model...'\n",
    "# Fit model no training data\n",
    "model = XGBClassifier(n_estimators=300,njobs=4,\n",
    "                      objective='multi:softmax',num_class=5)\n",
    "model.fit(xtrain, ytrain)\n",
    "ypred = model.predict(xvalid)\n",
    "ypred = [round(value) for value in ypred]\n",
    "\n",
    "# evaluate predictions\n",
    "acc   = accuracy_score(yvalid, ypred)\n",
    "print(\"Accuracy: %.2f%%\" % (acc * 100.0))"
   ]
  },
  {
   "cell_type": "code",
   "execution_count": 93,
   "metadata": {},
   "outputs": [
    {
     "data": {
      "text/plain": [
       "(array([ 41153.,      0.,   9773.,      0.,      0.,  15339.,      0.,\n",
       "         54419.,      0., 126676.]),\n",
       " array([1. , 1.4, 1.8, 2.2, 2.6, 3. , 3.4, 3.8, 4.2, 4.6, 5. ]),\n",
       " <a list of 10 Patch objects>)"
      ]
     },
     "execution_count": 93,
     "metadata": {},
     "output_type": "execute_result"
    },
    {
     "data": {
      "image/png": "[encoded data removed]",
      "text/plain": [
       "<matplotlib.figure.Figure at 0x7f1776ee1c50>"
      ]
     },
     "metadata": {},
     "output_type": "display_data"
    }
   ],
   "source": [
    "plt.hist(ypred)"
   ]
  },
  {
   "cell_type": "code",
   "execution_count": 94,
   "metadata": {},
   "outputs": [
    {
     "data": {
      "text/plain": [
       "(array([1423.,    0.,  818.,    0.,    0., 1088.,    0., 2392.,    0.,\n",
       "        4279.]),\n",
       " array([1. , 1.4, 1.8, 2.2, 2.6, 3. , 3.4, 3.8, 4.2, 4.6, 5. ]),\n",
       " <a list of 10 Patch objects>)"
      ]
     },
     "execution_count": 94,
     "metadata": {},
     "output_type": "execute_result"
    },
    {
     "data": {
      "image/png": "[encoded data removed]",
      "text/plain": [
       "<matplotlib.figure.Figure at 0x7f1778839b90>"
      ]
     },
     "metadata": {},
     "output_type": "display_data"
    }
   ],
   "source": [
    "plt.hist(yvalid[:k])"
   ]
  },
  {
   "cell_type": "code",
   "execution_count": null,
   "metadata": {},
   "outputs": [],
   "source": []
  }
 ],
 "metadata": {
  "kernelspec": {
   "display_name": "Python 2",
   "language": "python",
   "name": "python2"
  },
  "language_info": {
   "codemirror_mode": {
    "name": "ipython",
    "version": 2
   },
   "file_extension": ".py",
   "mimetype": "text/x-python",
   "name": "python",
   "nbconvert_exporter": "python",
   "pygments_lexer": "ipython2",
   "version": "2.7.14"
  }
 },
 "nbformat": 4,
 "nbformat_minor": 2
}
